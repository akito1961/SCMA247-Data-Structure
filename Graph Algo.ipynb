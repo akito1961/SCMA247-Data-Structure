{
 "cells": [
  {
   "cell_type": "markdown",
   "metadata": {},
   "source": [
    "# DFS"
   ]
  },
  {
   "cell_type": "markdown",
   "metadata": {},
   "source": [
    "<a href = https://www.educative.io/edpresso/how-to-implement-depth-first-search-in-python>Reference of DFS</a>"
   ]
  },
  {
   "cell_type": "code",
   "execution_count": 1,
   "metadata": {},
   "outputs": [],
   "source": [
    "def dfs(visited, graph, node):\n",
    "    if node not in visited:\n",
    "        print(node)\n",
    "        visited.add(node)\n",
    "        for neighbour in graph[node]:\n",
    "            dfs(visited, graph, neighbour)"
   ]
  },
  {
   "cell_type": "code",
   "execution_count": 20,
   "metadata": {},
   "outputs": [
    {
     "name": "stdout",
     "output_type": "stream",
     "text": [
      "For graph G1:\n",
      "0\n",
      "1\n",
      "2\n",
      "4\n",
      "7\n",
      "8\n",
      "3\n",
      "5\n",
      "6\n"
     ]
    }
   ],
   "source": [
    "G1 = {\n",
    "      0:[1,2],\n",
    "      1:[0,2,3,4],\n",
    "      2:[0,1,4,8],\n",
    "      3:[1,5,6],\n",
    "      4:[1,2,7,8],\n",
    "      5:[3],\n",
    "      6:[3],\n",
    "      7:[4,8],\n",
    "      8:[2,4,7]\n",
    "}\n",
    "\n",
    "visited = set() # Set to keep track of visited nodes.\n",
    "    \n",
    "print(\"For graph G1:\") \n",
    "    \n",
    "dfs(visited, G1, 0)"
   ]
  },
  {
   "cell_type": "markdown",
   "metadata": {},
   "source": [
    "# BFS"
   ]
  },
  {
   "cell_type": "markdown",
   "metadata": {},
   "source": [
    "<a herf = https://www.educative.io/edpresso/how-to-implement-a-breadth-first-search-in-python>Reference of BFS</a>"
   ]
  },
  {
   "cell_type": "code",
   "execution_count": 21,
   "metadata": {},
   "outputs": [],
   "source": [
    "def bfs(visited, graph, node):\n",
    "  visited.append(node)\n",
    "  queue.append(node)\n",
    "\n",
    "  while queue:\n",
    "    s = queue.pop(0) \n",
    "    print (s, end = \" \") \n",
    "\n",
    "    for neighbour in graph[s]:\n",
    "      if neighbour not in visited:\n",
    "        visited.append(neighbour)\n",
    "        queue.append(neighbour)\n"
   ]
  },
  {
   "cell_type": "code",
   "execution_count": 22,
   "metadata": {},
   "outputs": [
    {
     "name": "stdout",
     "output_type": "stream",
     "text": [
      "0 1 2 3 4 8 5 6 7 "
     ]
    }
   ],
   "source": [
    "visited = [] # List to keep track of visited nodes.\n",
    "queue = []     #Initialize a queue\n",
    "\n",
    "G1 = {\n",
    "      0:[1,2],\n",
    "      1:[0,2,3,4],\n",
    "      2:[0,1,4,8],\n",
    "      3:[1,5,6],\n",
    "      4:[1,2,7,8],\n",
    "      5:[3],\n",
    "      6:[3],\n",
    "      7:[4,8],\n",
    "      8:[2,4,7]\n",
    "}\n",
    "\n",
    "# Driver Code\n",
    "bfs(visited, G1, 0)"
   ]
  },
  {
   "cell_type": "code",
   "execution_count": null,
   "metadata": {},
   "outputs": [],
   "source": []
  }
 ],
 "metadata": {
  "interpreter": {
   "hash": "b3ba2566441a7c06988d0923437866b63cedc61552a5af99d1f4fb67d367b25f"
  },
  "kernelspec": {
   "display_name": "Python 3.9.7 ('base')",
   "language": "python",
   "name": "python3"
  },
  "language_info": {
   "codemirror_mode": {
    "name": "ipython",
    "version": 3
   },
   "file_extension": ".py",
   "mimetype": "text/x-python",
   "name": "python",
   "nbconvert_exporter": "python",
   "pygments_lexer": "ipython3",
   "version": "3.9.7"
  },
  "orig_nbformat": 4
 },
 "nbformat": 4,
 "nbformat_minor": 2
}
